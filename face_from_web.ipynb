{
 "cells": [
  {
   "cell_type": "code",
   "execution_count": null,
   "id": "6fa382e2-55ca-4d3c-ade4-b6a8a91213d4",
   "metadata": {},
   "outputs": [],
   "source": [
    "!wget   http://dlib.net/files/shape_predictor_68_face_landmarks.dat.bz2 # DOWNLOAD LINK"
   ]
  },
  {
   "cell_type": "code",
   "execution_count": null,
   "id": "81a4359e-645d-4290-a16b-05299d2e5145",
   "metadata": {},
   "outputs": [],
   "source": [
    "!bunzip2 shape_predictor_68_face_landmarks.dat.bz2\n",
    "\n",
    "datFile =  \"shape_predictor_68_face_landmarks.dat\""
   ]
  },
  {
   "cell_type": "code",
   "execution_count": null,
   "id": "4b7d23b8-0138-44f8-8ced-6d2d94b38f68",
   "metadata": {},
   "outputs": [],
   "source": [
    "!pip install imutils\n",
    "!pip3 install face_recognition"
   ]
  },
  {
   "cell_type": "code",
   "execution_count": 1,
   "id": "1e416ff1-51b8-4806-8864-54cce73c1701",
   "metadata": {},
   "outputs": [],
   "source": [
    "from scipy.spatial import distance as dist\n",
    "from imutils.video import FileVideoStream\n",
    "from imutils.video import VideoStream\n",
    "from imutils import face_utils\n",
    "import numpy as np\n",
    "import argparse\n",
    "import imutils\n",
    "import time\n",
    "import dlib\n",
    "import cv2\n",
    "import uuid \n",
    "import os\n",
    "import math\n",
    "import glob \n",
    "import face_recognition\n",
    "from collections import deque\n",
    "# cap = cv2.VideoCapture(0)"
   ]
  },
  {
   "cell_type": "code",
   "execution_count": 2,
   "id": "c3d2d825-7b20-481b-b78a-82c5dd4bcdb6",
   "metadata": {},
   "outputs": [],
   "source": [
    "def take_known_picture():\n",
    "    cap = cv2.VideoCapture(0)\n",
    "    name = str(input(\"enter name of the picture: \"))\n",
    "    known_dir=\"known_images/\"+name\n",
    "    # ret,frame = cap.read()\n",
    "    # cv2.imshow(\"name\",frame)\n",
    "    if not (os.path.isdir(known_dir)):\n",
    "        mode = 0o777\n",
    "        os.makedirs(known_dir,mode)\n",
    "    while(cap.isOpened()):\n",
    "        ret,frame = cap.read()\n",
    "        cv2.imshow(\"name\",frame) #display the captured image\n",
    "        if cv2.waitKey(1) & 0xFF == ord('y'): #save on pressing 'y' \n",
    "            file_path = known_dir+'/01.jpg'\n",
    "            cv2.imwrite(file_path,frame)\n",
    "            cv2.destroyAllWindows()\n",
    "            break\n",
    "    return name"
   ]
  },
  {
   "cell_type": "code",
   "execution_count": 34,
   "id": "1b4df6b0-2606-49f9-8582-a8ed97546742",
   "metadata": {},
   "outputs": [
    {
     "name": "stderr",
     "output_type": "stream",
     "text": [
      "[ WARN:0] global ../modules/videoio/src/cap_gstreamer.cpp (935) open OpenCV | GStreamer warning: Cannot query video position: status=0, value=-1, duration=-1\n"
     ]
    },
    {
     "name": "stdin",
     "output_type": "stream",
     "text": [
      "enter name of the picture:  nafees\n"
     ]
    }
   ],
   "source": [
    "name = take_known_picture()"
   ]
  },
  {
   "cell_type": "code",
   "execution_count": 2,
   "id": "3e0534d3-6738-4c6e-894a-dcacc540ac0f",
   "metadata": {},
   "outputs": [],
   "source": [
    "def midpoint(point1 ,point2):\n",
    "    return (point1.x + point2.x)/2,(point1.y + point2.y)/2\n",
    "\n",
    "def euclidean_distance(point1 , point2):\n",
    "    return math.sqrt((point1[0] - point2[0])**2 + (point1[1] - point2[1])**2)\n",
    "\n",
    "def get_blink_ratio(eye_points, facial_landmarks):\n",
    "    \n",
    "    #loading all the required points\n",
    "    corner_left  = (facial_landmarks.part(eye_points[0]).x, \n",
    "                    facial_landmarks.part(eye_points[0]).y)\n",
    "    corner_right = (facial_landmarks.part(eye_points[3]).x, \n",
    "                    facial_landmarks.part(eye_points[3]).y)\n",
    "    \n",
    "    center_top    = midpoint(facial_landmarks.part(eye_points[1]), \n",
    "                             facial_landmarks.part(eye_points[2]))\n",
    "    center_bottom = midpoint(facial_landmarks.part(eye_points[5]), \n",
    "                             facial_landmarks.part(eye_points[4]))\n",
    "\n",
    "    #calculating distance\n",
    "    horizontal_length = euclidean_distance(corner_left,corner_right)\n",
    "    vertical_length = euclidean_distance(center_top,center_bottom)\n",
    "\n",
    "    ratio = horizontal_length / vertical_length\n",
    "    # print(\"ratio: \" + str(ratio))\n",
    "    return ratio"
   ]
  },
  {
   "cell_type": "code",
   "execution_count": 3,
   "id": "21255e7c-de0f-4b31-a556-3f5a257e72e2",
   "metadata": {},
   "outputs": [],
   "source": [
    "detector = dlib.get_frontal_face_detector()\n",
    "predictor = dlib.shape_predictor('shape_predictor_68_face_landmarks.dat')\n",
    "# cap = cv2.VideoCapture(0)\n",
    "left_eye_landmarks  = [36, 37, 38, 39, 40, 41]\n",
    "right_eye_landmarks = [42, 43, 44, 45, 46, 47]\n",
    "def blinking_count(expected_blinks):\n",
    "    blinks = 0\n",
    "    BLINK_RATIO_THRESHOLD = 5.2\n",
    "    end_time = time.time()+20\n",
    "    result = False\n",
    "    time_queue = deque([0]*3,maxlen=3)\n",
    "    cap = cv2.VideoCapture(0)\n",
    "    while (cap.isOpened()):\n",
    "        # Capture the image from the webcam\n",
    "        ret, image = cap.read()\n",
    "\n",
    "        if not ret:\n",
    "            print(\"Can't receive frame (stream end?). Exiting ...\")\n",
    "            break \n",
    "\n",
    "        # Convert the image color to grayscale\n",
    "        gray = cv2.cvtColor(image, cv2.COLOR_BGR2GRAY)\n",
    "        # Detect the face\n",
    "        # rects = detector(gray, 1)\n",
    "        # Detect landmarks for each face\n",
    "        faces,_,_ = detector.run(image = image, upsample_num_times = 0, \n",
    "                           adjust_threshold = 0.0)\n",
    "        rects=faces\n",
    "        for rect in rects:\n",
    "            # Get the landmark points\n",
    "            shape = predictor(gray, rect)\n",
    "            left_eye_ratio  = get_blink_ratio(left_eye_landmarks, shape)\n",
    "            right_eye_ratio = get_blink_ratio(right_eye_landmarks, shape)\n",
    "            blink_ratio     = (left_eye_ratio + right_eye_ratio) / 2\n",
    "        # Convert it to the NumPy Array\n",
    "            shape_np = np.zeros((68, 2), dtype=\"int\")\n",
    "\n",
    "            for i in range(0, 68):\n",
    "                shape_np[i] = (shape.part(i).x, shape.part(i).y)\n",
    "            shape = shape_np\n",
    "\n",
    "            # Display the landmarks\n",
    "            for i, (x, y) in enumerate(shape):\n",
    "            # Draw the circle to mark the keypoint \n",
    "                cv2.circle(image, (x, y), 1, (0, 0, 255), -1)\n",
    "\n",
    "            # text = \"BLINK_COUNT: \"+str(blinks)\n",
    "            if blink_ratio > BLINK_RATIO_THRESHOLD:\n",
    "                #Blink detected! Do Something!\n",
    "\n",
    "                blinks = blinks+1\n",
    "                time.sleep(.125)\n",
    "                time_queue.append(round(time.time()*1000))\n",
    "                if not (time_queue[0]== 0 or time_queue[2] == 0):\n",
    "                    if (time_queue[2]-time_queue[0]<1000):\n",
    "                        # print(\"bot_time :\"+str(time_queue[2]-time_queue[0]))\n",
    "                        blinks = 0\n",
    "            text = \"BLINK_COUNT: \"+str(blinks)\n",
    "            cv2.putText(image,text,(10,50), cv2.FONT_HERSHEY_SIMPLEX,\n",
    "                        2,(0,0,0),2,cv2.LINE_AA)\n",
    "            cv2.putText(image,str(blink_ratio),(60,100), cv2.FONT_HERSHEY_SIMPLEX,\n",
    "                            2,(0,0,0),2,cv2.LINE_AA)\n",
    "            if (blinks >=expected_blinks):\n",
    "                result = True\n",
    "                cv2.destroyAllWindows()\n",
    "                return result\n",
    "\n",
    "        # Display the image\n",
    "        cv2.imshow('BlinkDetector', image)\n",
    "\n",
    "        if (time.time() > end_time):\n",
    "            # print(\"please follow the instructions\")\n",
    "            cv2.destroyAllWindows()\n",
    "            break\n",
    "        # Press the escape button to terminate the code\n",
    "        if cv2.waitKey(10) == 27:\n",
    "            cv2.destroyAllWindows()\n",
    "            break\n",
    "\n",
    "    cap.release()\n",
    "    return result"
   ]
  },
  {
   "cell_type": "code",
   "execution_count": 4,
   "id": "45069697-1811-49c2-a4af-076f1040fb55",
   "metadata": {},
   "outputs": [],
   "source": [
    "my_list = os.listdir('known_images')\n",
    "my_list\n",
    "known_face_names=[]\n",
    "known_face_encodings=[]\n",
    "for i in range(len(my_list)):\n",
    "    if(my_list[i]!=\".ipynb_checkpoints\"):\n",
    "\n",
    "        image=face_recognition.load_image_file(\"known_images/\"+my_list[i]+\"/01.jpg\")\n",
    "        face_encoding = face_recognition.face_encodings(image)[0]\n",
    "        known_face_encodings.append(face_encoding)\n",
    "        known_face_names.append(my_list[i])"
   ]
  },
  {
   "cell_type": "code",
   "execution_count": 5,
   "id": "bde91b3c-8ef3-4165-a394-a143e455bf91",
   "metadata": {},
   "outputs": [],
   "source": [
    "def face_recognize():\n",
    "    video_capture = cv2.VideoCapture(0)\n",
    "    while (video_capture.isOpened()):\n",
    "        # Grab a single frame of video\n",
    "        ret, frame = video_capture.read()\n",
    "\n",
    "        # Convert the image from BGR color (which OpenCV uses) to RGB color (which face_recognition uses)\n",
    "        rgb_frame = cv2.cvtColor(frame, cv2.COLOR_BGR2RGB)\n",
    "\n",
    "        # Find all the faces and face enqcodings in the frame of video\n",
    "        face_locations = face_recognition.face_locations(rgb_frame)\n",
    "        face_encodings = face_recognition.face_encodings(rgb_frame, face_locations)\n",
    "\n",
    "        # Loop through each face in this frame of video\n",
    "        for (top, right, bottom, left), face_encoding in zip(face_locations, face_encodings):\n",
    "            # See if the face is a match for the known face(s)\n",
    "            matches = face_recognition.compare_faces(known_face_encodings, face_encoding)\n",
    "\n",
    "            name = \"Unknown\"\n",
    "\n",
    "            # If a match was found in known_face_encodings, just use the first one.\n",
    "            # if True in matches:\n",
    "            #     first_match_index = matches.index(True)\n",
    "            #     name = known_face_names[first_match_index]\n",
    "\n",
    "            # Or instead, use the known face with the smallest distance to the new face\n",
    "            face_distances = face_recognition.face_distance(known_face_encodings, face_encoding)\n",
    "            best_match_index = np.argmin(face_distances)\n",
    "            if matches[best_match_index]:\n",
    "                name = known_face_names[best_match_index]\n",
    "\n",
    "            # Draw a box around the face\n",
    "            cv2.rectangle(frame, (left, top), (right, bottom), (0, 0, 255), 2)\n",
    "\n",
    "            # Draw a label with a name below the face\n",
    "            cv2.rectangle(frame, (left, bottom - 35), (right, bottom), (0, 0, 255), cv2.FILLED)\n",
    "            font = cv2.FONT_HERSHEY_DUPLEX\n",
    "            cv2.putText(frame, name, (left + 6, bottom - 6), font, 1.0, (255, 255, 255), 1)\n",
    "\n",
    "        # Display the resulting image\n",
    "        cv2.imshow('Video', frame)\n",
    "\n",
    "        # Hit 'q' on the keyboard to quit!\n",
    "        if cv2.waitKey(10) == 27:\n",
    "            cv2.destroyAllWindows()\n",
    "            break\n",
    "\n",
    "    # Release handle to the webcam\n",
    "    video_capture.release()\n",
    "    cv2.destroyAllWindows()"
   ]
  },
  {
   "cell_type": "code",
   "execution_count": 6,
   "id": "28369bba-025f-4615-8c5f-8d62982e21fc",
   "metadata": {},
   "outputs": [
    {
     "name": "stdin",
     "output_type": "stream",
     "text": [
      "how many blinks? 4\n"
     ]
    },
    {
     "name": "stderr",
     "output_type": "stream",
     "text": [
      "[ WARN:0] global ../modules/videoio/src/cap_gstreamer.cpp (935) open OpenCV | GStreamer warning: Cannot query video position: status=0, value=-1, duration=-1\n",
      "[ WARN:0] global ../modules/videoio/src/cap_gstreamer.cpp (935) open OpenCV | GStreamer warning: Cannot query video position: status=0, value=-1, duration=-1\n"
     ]
    }
   ],
   "source": [
    "blink_num=int(input(\"how many blinks?\"))\n",
    "res = blinking_count(blink_num)\n",
    "if res:\n",
    "    face_recognize()\n",
    "else:\n",
    "    print(\"please follow the instructions\")\n"
   ]
  }
 ],
 "metadata": {
  "kernelspec": {
   "display_name": "Python 3 (ipykernel)",
   "language": "python",
   "name": "python3"
  },
  "language_info": {
   "codemirror_mode": {
    "name": "ipython",
    "version": 3
   },
   "file_extension": ".py",
   "mimetype": "text/x-python",
   "name": "python",
   "nbconvert_exporter": "python",
   "pygments_lexer": "ipython3",
   "version": "3.8.10"
  }
 },
 "nbformat": 4,
 "nbformat_minor": 5
}
